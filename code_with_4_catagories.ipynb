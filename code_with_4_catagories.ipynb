{
 "cells": [
  {
   "cell_type": "code",
   "execution_count": 1,
   "metadata": {},
   "outputs": [],
   "source": [
    "import pandas as pd\n",
    "import json"
   ]
  },
  {
   "cell_type": "code",
   "execution_count": 2,
   "metadata": {},
   "outputs": [],
   "source": [
    "#Read the data\n",
    "data = pd.read_json('Export_smallDataFrame.json')"
   ]
  },
  {
   "cell_type": "code",
   "execution_count": 3,
   "metadata": {},
   "outputs": [
    {
     "data": {
      "text/html": [
       "<div>\n",
       "<style scoped>\n",
       "    .dataframe tbody tr th:only-of-type {\n",
       "        vertical-align: middle;\n",
       "    }\n",
       "\n",
       "    .dataframe tbody tr th {\n",
       "        vertical-align: top;\n",
       "    }\n",
       "\n",
       "    .dataframe thead th {\n",
       "        text-align: right;\n",
       "    }\n",
       "</style>\n",
       "<table border=\"1\" class=\"dataframe\">\n",
       "  <thead>\n",
       "    <tr style=\"text-align: right;\">\n",
       "      <th></th>\n",
       "      <th>id</th>\n",
       "      <th>categories</th>\n",
       "      <th>abstract</th>\n",
       "      <th>encoded_categories</th>\n",
       "      <th>stemmed abstract</th>\n",
       "      <th>lemma abstract</th>\n",
       "      <th>length</th>\n",
       "    </tr>\n",
       "  </thead>\n",
       "  <tbody>\n",
       "    <tr>\n",
       "      <th>0</th>\n",
       "      <td>704.0003</td>\n",
       "      <td>physics-ph</td>\n",
       "      <td>evolution earthmoon system described dark matt...</td>\n",
       "      <td>10234</td>\n",
       "      <td>evolut earthmoon system describ dark matter fi...</td>\n",
       "      <td>evolution earthmoon system described dark matt...</td>\n",
       "      <td>616</td>\n",
       "    </tr>\n",
       "    <tr>\n",
       "      <th>1</th>\n",
       "      <td>704.0004</td>\n",
       "      <td>math</td>\n",
       "      <td>show determinant stirling cycle numbers counts...</td>\n",
       "      <td>7149</td>\n",
       "      <td>show determin stirl cycl number count unlabel ...</td>\n",
       "      <td>show determinant stirling cycle number count u...</td>\n",
       "      <td>195</td>\n",
       "    </tr>\n",
       "    <tr>\n",
       "      <th>2</th>\n",
       "      <td>704.0005</td>\n",
       "      <td>math</td>\n",
       "      <td>paper show compute lambda_alpha norm alphage 0...</td>\n",
       "      <td>7149</td>\n",
       "      <td>paper show comput lambda_alpha norm alphag 0 u...</td>\n",
       "      <td>paper show compute lambda_alpha norm alphage 0...</td>\n",
       "      <td>140</td>\n",
       "    </tr>\n",
       "    <tr>\n",
       "      <th>3</th>\n",
       "      <td>704.0010</td>\n",
       "      <td>math</td>\n",
       "      <td>partial cubes isometric subgraphs hypercubes s...</td>\n",
       "      <td>7149</td>\n",
       "      <td>partial cube isometr subgraph hypercub structu...</td>\n",
       "      <td>partial cube isometric subgraphs hypercubes st...</td>\n",
       "      <td>529</td>\n",
       "    </tr>\n",
       "    <tr>\n",
       "      <th>4</th>\n",
       "      <td>704.0011</td>\n",
       "      <td>math</td>\n",
       "      <td>paper present algorithm computing hecke eigens...</td>\n",
       "      <td>7149</td>\n",
       "      <td>paper present algorithm comput heck eigensyste...</td>\n",
       "      <td>paper present algorithm computing hecke eigens...</td>\n",
       "      <td>256</td>\n",
       "    </tr>\n",
       "  </tbody>\n",
       "</table>\n",
       "</div>"
      ],
      "text/plain": [
       "         id  categories                                           abstract  \\\n",
       "0  704.0003  physics-ph  evolution earthmoon system described dark matt...   \n",
       "1  704.0004        math  show determinant stirling cycle numbers counts...   \n",
       "2  704.0005        math  paper show compute lambda_alpha norm alphage 0...   \n",
       "3  704.0010        math  partial cubes isometric subgraphs hypercubes s...   \n",
       "4  704.0011        math  paper present algorithm computing hecke eigens...   \n",
       "\n",
       "   encoded_categories                                   stemmed abstract  \\\n",
       "0               10234  evolut earthmoon system describ dark matter fi...   \n",
       "1                7149  show determin stirl cycl number count unlabel ...   \n",
       "2                7149  paper show comput lambda_alpha norm alphag 0 u...   \n",
       "3                7149  partial cube isometr subgraph hypercub structu...   \n",
       "4                7149  paper present algorithm comput heck eigensyste...   \n",
       "\n",
       "                                      lemma abstract  length  \n",
       "0  evolution earthmoon system described dark matt...     616  \n",
       "1  show determinant stirling cycle number count u...     195  \n",
       "2  paper show compute lambda_alpha norm alphage 0...     140  \n",
       "3  partial cube isometric subgraphs hypercubes st...     529  \n",
       "4  paper present algorithm computing hecke eigens...     256  "
      ]
     },
     "execution_count": 3,
     "metadata": {},
     "output_type": "execute_result"
    }
   ],
   "source": [
    "data.head()"
   ]
  },
  {
   "cell_type": "code",
   "execution_count": 4,
   "metadata": {},
   "outputs": [
    {
     "data": {
      "text/plain": [
       "84000"
      ]
     },
     "execution_count": 4,
     "metadata": {},
     "output_type": "execute_result"
    }
   ],
   "source": [
    "len(data)"
   ]
  },
  {
   "cell_type": "code",
   "execution_count": 5,
   "metadata": {},
   "outputs": [
    {
     "data": {
      "text/plain": [
       "categories\n",
       "cs            21000\n",
       "math          21000\n",
       "physics-ph    21000\n",
       "stat          21000\n",
       "dtype: int64"
      ]
     },
     "execution_count": 5,
     "metadata": {},
     "output_type": "execute_result"
    }
   ],
   "source": [
    "data.groupby(['categories']).size()"
   ]
  },
  {
   "cell_type": "code",
   "execution_count": 6,
   "metadata": {},
   "outputs": [],
   "source": [
    "#splitting test and train data ahead of time\n",
    "from sklearn.model_selection import train_test_split\n",
    "X = data[\"stemmed abstract\"]\n",
    "y = data['encoded_categories']\n",
    "X_train, X_test, y_train, y_test = train_test_split(X, y, test_size=0.2)"
   ]
  },
  {
   "cell_type": "code",
   "execution_count": 7,
   "metadata": {},
   "outputs": [],
   "source": [
    "#TF IDF with stems\n",
    "from sklearn.feature_extraction.text import TfidfVectorizer \n",
    "vectorizer = TfidfVectorizer(max_df = 0.8, min_df = .1)\n",
    "X_train_knn = vectorizer.fit_transform(X_train)\n",
    "X_test_knn = vectorizer.transform(X_test)"
   ]
  },
  {
   "cell_type": "code",
   "execution_count": 25,
   "metadata": {},
   "outputs": [
    {
     "name": "stdout",
     "output_type": "stream",
     "text": [
      "0.6685119047619048\n"
     ]
    }
   ],
   "source": [
    "from sklearn.neighbors import KNeighborsClassifier\n",
    "neigh = KNeighborsClassifier(n_neighbors=20) #algorithm = \"brute\", n_jobs=-1\n",
    "neigh.fit(X_train_knn, y_train)\n",
    "print(neigh.score(X_test_knn, y_test))  # k=3 0.6336904761904761 k=5 0.6548809523809523\n",
    "# k=7 0.6626785714285715, k=8  0.6626785714285715"
   ]
  },
  {
   "cell_type": "code",
   "execution_count": 22,
   "metadata": {},
   "outputs": [
    {
     "name": "stdout",
     "output_type": "stream",
     "text": [
      "0.7313690476190476\n"
     ]
    }
   ],
   "source": [
    "from sklearn.ensemble import RandomForestClassifier                     \n",
    "rfc = RandomForestClassifier(max_depth=18) # a lot slower if you don't set a max_depth... I didn't bother waiting\n",
    "rfc.fit(X_train_knn, y_train)  \n",
    "print(rfc.score(X_test_knn, y_test))   #0.7239285714285715 depth15,  0.7076785714285714 depth 10,\n",
    "#0.726845238095238 depth=16"
   ]
  },
  {
   "cell_type": "code",
   "execution_count": 12,
   "metadata": {},
   "outputs": [
    {
     "name": "stdout",
     "output_type": "stream",
     "text": [
      "0.7100595238095239\n"
     ]
    }
   ],
   "source": [
    "from sklearn.linear_model import SGDClassifier\n",
    "\n",
    "sgd= SGDClassifier()\n",
    "sgd.fit(X_train_knn, y_train)\n",
    "#mean of accuracy\n",
    "print(sgd.score(X_test_knn, y_test))"
   ]
  },
  {
   "cell_type": "code",
   "execution_count": 21,
   "metadata": {},
   "outputs": [
    {
     "name": "stdout",
     "output_type": "stream",
     "text": [
      "Accuracy: 66.65%\n"
     ]
    }
   ],
   "source": [
    "from sklearn.linear_model import PassiveAggressiveClassifier\n",
    "from sklearn.datasets import make_classification\n",
    "from sklearn.metrics import accuracy_score\n",
    "#tfidf_train = tfidf.fit_transform(x_train) \n",
    "#tfidf_test = tfidf.transform(x_test)\n",
    "#tfidf_test_final = tfidf.transform(test['text'])\n",
    "\n",
    "\n",
    "\n",
    "#X_train_knn = vectorizer.fit_transform(X_train)\n",
    "#X_test_knn = vectorizer.transform(X_test)\n",
    "\n",
    "# Setting up Passive Aggressive Classifier\n",
    "pac = PassiveAggressiveClassifier(max_iter = 100) # with 50 get 60\n",
    "# Fitting on the training set\n",
    "pac.fit(X_train_knn, y_train)\n",
    "# Predicting on the test set\n",
    "y_pred = pac.predict(X_test_knn)\n",
    "score = accuracy_score(y_test, y_pred)\n",
    "print(f'Accuracy: {round(score * 100, 2)}%')"
   ]
  },
  {
   "cell_type": "code",
   "execution_count": null,
   "metadata": {},
   "outputs": [],
   "source": []
  }
 ],
 "metadata": {
  "kernelspec": {
   "display_name": "Python 3",
   "language": "python",
   "name": "python3"
  },
  "language_info": {
   "codemirror_mode": {
    "name": "ipython",
    "version": 3
   },
   "file_extension": ".py",
   "mimetype": "text/x-python",
   "name": "python",
   "nbconvert_exporter": "python",
   "pygments_lexer": "ipython3",
   "version": "3.7.6"
  }
 },
 "nbformat": 4,
 "nbformat_minor": 4
}
