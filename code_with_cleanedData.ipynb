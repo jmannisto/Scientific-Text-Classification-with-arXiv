{
 "cells": [
  {
   "cell_type": "code",
   "execution_count": 2,
   "metadata": {},
   "outputs": [],
   "source": [
    "import pandas as pd\n",
    "import json"
   ]
  },
  {
   "cell_type": "code",
   "execution_count": 3,
   "metadata": {},
   "outputs": [],
   "source": [
    "# read the cleaned data\n",
    "df = pd.read_json('cleanedData.json')"
   ]
  },
  {
   "cell_type": "code",
   "execution_count": 4,
   "metadata": {},
   "outputs": [
    {
     "data": {
      "text/html": [
       "<div>\n",
       "<style scoped>\n",
       "    .dataframe tbody tr th:only-of-type {\n",
       "        vertical-align: middle;\n",
       "    }\n",
       "\n",
       "    .dataframe tbody tr th {\n",
       "        vertical-align: top;\n",
       "    }\n",
       "\n",
       "    .dataframe thead th {\n",
       "        text-align: right;\n",
       "    }\n",
       "</style>\n",
       "<table border=\"1\" class=\"dataframe\">\n",
       "  <thead>\n",
       "    <tr style=\"text-align: right;\">\n",
       "      <th></th>\n",
       "      <th>id</th>\n",
       "      <th>categories</th>\n",
       "      <th>abstract</th>\n",
       "      <th>encoded_categories</th>\n",
       "      <th>stemmed abstract</th>\n",
       "      <th>lemma abstract</th>\n",
       "    </tr>\n",
       "  </thead>\n",
       "  <tbody>\n",
       "    <tr>\n",
       "      <th>0</th>\n",
       "      <td>0704.0001</td>\n",
       "      <td>hep-ph</td>\n",
       "      <td>fully differential calculation perturbative qu...</td>\n",
       "      <td>5760</td>\n",
       "      <td>fulli differenti calcul perturb quantum chromo...</td>\n",
       "      <td>fully differential calculation perturbative qu...</td>\n",
       "    </tr>\n",
       "    <tr>\n",
       "      <th>1</th>\n",
       "      <td>0704.0002</td>\n",
       "      <td>math cs</td>\n",
       "      <td>describe new algorithm kellpebble game colors ...</td>\n",
       "      <td>7408</td>\n",
       "      <td>describ new algorithm kellpebbl game color use...</td>\n",
       "      <td>describe new algorithm kellpebble game color u...</td>\n",
       "    </tr>\n",
       "    <tr>\n",
       "      <th>2</th>\n",
       "      <td>0704.0003</td>\n",
       "      <td>physics-ph</td>\n",
       "      <td>evolution earthmoon system described dark matt...</td>\n",
       "      <td>10234</td>\n",
       "      <td>evolut earthmoon system describ dark matter fi...</td>\n",
       "      <td>evolution earthmoon system described dark matt...</td>\n",
       "    </tr>\n",
       "    <tr>\n",
       "      <th>3</th>\n",
       "      <td>0704.0004</td>\n",
       "      <td>math</td>\n",
       "      <td>show determinant stirling cycle numbers counts...</td>\n",
       "      <td>7149</td>\n",
       "      <td>show determin stirl cycl number count unlabel ...</td>\n",
       "      <td>show determinant stirling cycle number count u...</td>\n",
       "    </tr>\n",
       "    <tr>\n",
       "      <th>4</th>\n",
       "      <td>0704.0005</td>\n",
       "      <td>math</td>\n",
       "      <td>paper show compute lambda_alpha norm alphage 0...</td>\n",
       "      <td>7149</td>\n",
       "      <td>paper show comput lambda_alpha norm alphag 0 u...</td>\n",
       "      <td>paper show compute lambda_alpha norm alphage 0...</td>\n",
       "    </tr>\n",
       "  </tbody>\n",
       "</table>\n",
       "</div>"
      ],
      "text/plain": [
       "          id  categories                                           abstract  \\\n",
       "0  0704.0001      hep-ph  fully differential calculation perturbative qu...   \n",
       "1  0704.0002     math cs  describe new algorithm kellpebble game colors ...   \n",
       "2  0704.0003  physics-ph  evolution earthmoon system described dark matt...   \n",
       "3  0704.0004        math  show determinant stirling cycle numbers counts...   \n",
       "4  0704.0005        math  paper show compute lambda_alpha norm alphage 0...   \n",
       "\n",
       "   encoded_categories                                   stemmed abstract  \\\n",
       "0                5760  fulli differenti calcul perturb quantum chromo...   \n",
       "1                7408  describ new algorithm kellpebbl game color use...   \n",
       "2               10234  evolut earthmoon system describ dark matter fi...   \n",
       "3                7149  show determin stirl cycl number count unlabel ...   \n",
       "4                7149  paper show comput lambda_alpha norm alphag 0 u...   \n",
       "\n",
       "                                      lemma abstract  \n",
       "0  fully differential calculation perturbative qu...  \n",
       "1  describe new algorithm kellpebble game color u...  \n",
       "2  evolution earthmoon system described dark matt...  \n",
       "3  show determinant stirling cycle number count u...  \n",
       "4  paper show compute lambda_alpha norm alphage 0...  "
      ]
     },
     "execution_count": 4,
     "metadata": {},
     "output_type": "execute_result"
    }
   ],
   "source": [
    "df.head()"
   ]
  },
  {
   "cell_type": "code",
   "execution_count": 5,
   "metadata": {},
   "outputs": [
    {
     "data": {
      "text/plain": [
       "13373"
      ]
     },
     "execution_count": 5,
     "metadata": {},
     "output_type": "execute_result"
    }
   ],
   "source": [
    "len(df['categories'].unique())"
   ]
  },
  {
   "cell_type": "code",
   "execution_count": 9,
   "metadata": {},
   "outputs": [
    {
     "data": {
      "text/plain": [
       "array(['hep-ph', 'math cs', 'physics-ph', ...,\n",
       "       'supr-con cond-mat-sci cond-mat-con',\n",
       "       'supr-con cond-mat-sci cond-mat-con nlin patt-sol',\n",
       "       'supr-con cond-mat-con quant-ph'], dtype=object)"
      ]
     },
     "execution_count": 9,
     "metadata": {},
     "output_type": "execute_result"
    }
   ],
   "source": [
    "df['categories'].unique()"
   ]
  },
  {
   "cell_type": "code",
   "execution_count": 22,
   "metadata": {},
   "outputs": [
    {
     "name": "stdout",
     "output_type": "stream",
     "text": [
      "Minimum Length:  0 \n",
      "Maximum Length:  4502 \n",
      "Average Length:  690\n"
     ]
    }
   ],
   "source": [
    "# Checking length of each article\n",
    "length = []\n",
    "[length.append(len(str(text))) for text in df['abstract']]\n",
    "df['length'] = length\n",
    "print('Minimum Length: ', min(df['length']), '\\nMaximum Length: ', max(df['length']), '\\nAverage Length: ', round(sum(df['length'])/len(df['length'])))"
   ]
  },
  {
   "cell_type": "code",
   "execution_count": 24,
   "metadata": {},
   "outputs": [
    {
     "name": "stdout",
     "output_type": "stream",
     "text": [
      "Number of articles with less than 50 words:  2015\n"
     ]
    }
   ],
   "source": [
    "print('Number of articles with less than 50 words: ', len(df[df['length'] < 50]))"
   ]
  },
  {
   "cell_type": "code",
   "execution_count": 25,
   "metadata": {},
   "outputs": [
    {
     "name": "stdout",
     "output_type": "stream",
     "text": [
      "Minimum Length:  50 \n",
      "Maximum Length:  4502 \n",
      "Average Length:  691\n"
     ]
    }
   ],
   "source": [
    "# Removing outliers\n",
    "df = df.drop(df['abstract'][df['length'] < 50].index, axis = 0)\n",
    "print('Minimum Length: ', min(df['length']), '\\nMaximum Length: ', max(df['length']), '\\nAverage Length: ', round(sum(df['length'])/len(df['length'])))"
   ]
  },
  {
   "cell_type": "code",
   "execution_count": 26,
   "metadata": {},
   "outputs": [
    {
     "data": {
      "text/plain": [
       "2125344"
      ]
     },
     "execution_count": 26,
     "metadata": {},
     "output_type": "execute_result"
    }
   ],
   "source": [
    "len(df)"
   ]
  },
  {
   "cell_type": "code",
   "execution_count": 23,
   "metadata": {},
   "outputs": [
    {
     "data": {
      "text/html": [
       "<div>\n",
       "<style scoped>\n",
       "    .dataframe tbody tr th:only-of-type {\n",
       "        vertical-align: middle;\n",
       "    }\n",
       "\n",
       "    .dataframe tbody tr th {\n",
       "        vertical-align: top;\n",
       "    }\n",
       "\n",
       "    .dataframe thead th {\n",
       "        text-align: right;\n",
       "    }\n",
       "</style>\n",
       "<table border=\"1\" class=\"dataframe\">\n",
       "  <thead>\n",
       "    <tr style=\"text-align: right;\">\n",
       "      <th></th>\n",
       "      <th>id</th>\n",
       "      <th>categories</th>\n",
       "      <th>abstract</th>\n",
       "      <th>encoded_categories</th>\n",
       "      <th>stemmed abstract</th>\n",
       "      <th>lemma abstract</th>\n",
       "      <th>length</th>\n",
       "    </tr>\n",
       "  </thead>\n",
       "  <tbody>\n",
       "    <tr>\n",
       "      <th>0</th>\n",
       "      <td>0704.0001</td>\n",
       "      <td>hep-ph</td>\n",
       "      <td>fully differential calculation perturbative qu...</td>\n",
       "      <td>5760</td>\n",
       "      <td>fulli differenti calcul perturb quantum chromo...</td>\n",
       "      <td>fully differential calculation perturbative qu...</td>\n",
       "      <td>726</td>\n",
       "    </tr>\n",
       "    <tr>\n",
       "      <th>1</th>\n",
       "      <td>0704.0002</td>\n",
       "      <td>math cs</td>\n",
       "      <td>describe new algorithm kellpebble game colors ...</td>\n",
       "      <td>7408</td>\n",
       "      <td>describ new algorithm kellpebbl game color use...</td>\n",
       "      <td>describe new algorithm kellpebble game color u...</td>\n",
       "      <td>610</td>\n",
       "    </tr>\n",
       "    <tr>\n",
       "      <th>2</th>\n",
       "      <td>0704.0003</td>\n",
       "      <td>physics-ph</td>\n",
       "      <td>evolution earthmoon system described dark matt...</td>\n",
       "      <td>10234</td>\n",
       "      <td>evolut earthmoon system describ dark matter fi...</td>\n",
       "      <td>evolution earthmoon system described dark matt...</td>\n",
       "      <td>616</td>\n",
       "    </tr>\n",
       "    <tr>\n",
       "      <th>3</th>\n",
       "      <td>0704.0004</td>\n",
       "      <td>math</td>\n",
       "      <td>show determinant stirling cycle numbers counts...</td>\n",
       "      <td>7149</td>\n",
       "      <td>show determin stirl cycl number count unlabel ...</td>\n",
       "      <td>show determinant stirling cycle number count u...</td>\n",
       "      <td>195</td>\n",
       "    </tr>\n",
       "    <tr>\n",
       "      <th>4</th>\n",
       "      <td>0704.0005</td>\n",
       "      <td>math</td>\n",
       "      <td>paper show compute lambda_alpha norm alphage 0...</td>\n",
       "      <td>7149</td>\n",
       "      <td>paper show comput lambda_alpha norm alphag 0 u...</td>\n",
       "      <td>paper show compute lambda_alpha norm alphage 0...</td>\n",
       "      <td>140</td>\n",
       "    </tr>\n",
       "  </tbody>\n",
       "</table>\n",
       "</div>"
      ],
      "text/plain": [
       "          id  categories                                           abstract  \\\n",
       "0  0704.0001      hep-ph  fully differential calculation perturbative qu...   \n",
       "1  0704.0002     math cs  describe new algorithm kellpebble game colors ...   \n",
       "2  0704.0003  physics-ph  evolution earthmoon system described dark matt...   \n",
       "3  0704.0004        math  show determinant stirling cycle numbers counts...   \n",
       "4  0704.0005        math  paper show compute lambda_alpha norm alphage 0...   \n",
       "\n",
       "   encoded_categories                                   stemmed abstract  \\\n",
       "0                5760  fulli differenti calcul perturb quantum chromo...   \n",
       "1                7408  describ new algorithm kellpebbl game color use...   \n",
       "2               10234  evolut earthmoon system describ dark matter fi...   \n",
       "3                7149  show determin stirl cycl number count unlabel ...   \n",
       "4                7149  paper show comput lambda_alpha norm alphag 0 u...   \n",
       "\n",
       "                                      lemma abstract  length  \n",
       "0  fully differential calculation perturbative qu...     726  \n",
       "1  describe new algorithm kellpebble game color u...     610  \n",
       "2  evolution earthmoon system described dark matt...     616  \n",
       "3  show determinant stirling cycle number count u...     195  \n",
       "4  paper show compute lambda_alpha norm alphage 0...     140  "
      ]
     },
     "execution_count": 23,
     "metadata": {},
     "output_type": "execute_result"
    }
   ],
   "source": [
    "df.head()"
   ]
  },
  {
   "cell_type": "code",
   "execution_count": 27,
   "metadata": {},
   "outputs": [],
   "source": [
    "df1 = df.groupby(['categories'])['categories'].count().reset_index(\n",
    "  name='Count').sort_values(['Count'], ascending=False)"
   ]
  },
  {
   "cell_type": "code",
   "execution_count": 28,
   "metadata": {},
   "outputs": [
    {
     "data": {
      "text/html": [
       "<div>\n",
       "<style scoped>\n",
       "    .dataframe tbody tr th:only-of-type {\n",
       "        vertical-align: middle;\n",
       "    }\n",
       "\n",
       "    .dataframe tbody tr th {\n",
       "        vertical-align: top;\n",
       "    }\n",
       "\n",
       "    .dataframe thead th {\n",
       "        text-align: right;\n",
       "    }\n",
       "</style>\n",
       "<table border=\"1\" class=\"dataframe\">\n",
       "  <thead>\n",
       "    <tr style=\"text-align: right;\">\n",
       "      <th></th>\n",
       "      <th>categories</th>\n",
       "      <th>Count</th>\n",
       "    </tr>\n",
       "  </thead>\n",
       "  <tbody>\n",
       "    <tr>\n",
       "      <th>7147</th>\n",
       "      <td>math</td>\n",
       "      <td>361543</td>\n",
       "    </tr>\n",
       "    <tr>\n",
       "      <th>4191</th>\n",
       "      <td>cs</td>\n",
       "      <td>263572</td>\n",
       "    </tr>\n",
       "    <tr>\n",
       "      <th>49</th>\n",
       "      <td>astro-ph</td>\n",
       "      <td>241144</td>\n",
       "    </tr>\n",
       "    <tr>\n",
       "      <th>5759</th>\n",
       "      <td>hep-ph</td>\n",
       "      <td>77454</td>\n",
       "    </tr>\n",
       "    <tr>\n",
       "      <th>12062</th>\n",
       "      <td>quant-ph</td>\n",
       "      <td>60922</td>\n",
       "    </tr>\n",
       "  </tbody>\n",
       "</table>\n",
       "</div>"
      ],
      "text/plain": [
       "      categories   Count\n",
       "7147        math  361543\n",
       "4191          cs  263572\n",
       "49      astro-ph  241144\n",
       "5759      hep-ph   77454\n",
       "12062   quant-ph   60922"
      ]
     },
     "execution_count": 28,
     "metadata": {},
     "output_type": "execute_result"
    }
   ],
   "source": [
    "df1.head()"
   ]
  },
  {
   "cell_type": "code",
   "execution_count": 38,
   "metadata": {},
   "outputs": [],
   "source": [
    "#df2=df"
   ]
  },
  {
   "cell_type": "code",
   "execution_count": 41,
   "metadata": {
    "scrolled": true
   },
   "outputs": [],
   "source": [
    "#df3=df2.groupby(['categories']).size().sort_values(ascending=False).reset_index(name='count')\n",
    "   "
   ]
  },
  {
   "cell_type": "code",
   "execution_count": 42,
   "metadata": {
    "collapsed": true
   },
   "outputs": [
    {
     "data": {
      "text/html": [
       "<div>\n",
       "<style scoped>\n",
       "    .dataframe tbody tr th:only-of-type {\n",
       "        vertical-align: middle;\n",
       "    }\n",
       "\n",
       "    .dataframe tbody tr th {\n",
       "        vertical-align: top;\n",
       "    }\n",
       "\n",
       "    .dataframe thead th {\n",
       "        text-align: right;\n",
       "    }\n",
       "</style>\n",
       "<table border=\"1\" class=\"dataframe\">\n",
       "  <thead>\n",
       "    <tr style=\"text-align: right;\">\n",
       "      <th></th>\n",
       "      <th>categories</th>\n",
       "      <th>count</th>\n",
       "    </tr>\n",
       "  </thead>\n",
       "  <tbody>\n",
       "    <tr>\n",
       "      <th>0</th>\n",
       "      <td>math</td>\n",
       "      <td>361543</td>\n",
       "    </tr>\n",
       "    <tr>\n",
       "      <th>1</th>\n",
       "      <td>cs</td>\n",
       "      <td>263572</td>\n",
       "    </tr>\n",
       "    <tr>\n",
       "      <th>2</th>\n",
       "      <td>astro-ph</td>\n",
       "      <td>241144</td>\n",
       "    </tr>\n",
       "    <tr>\n",
       "      <th>3</th>\n",
       "      <td>hep-ph</td>\n",
       "      <td>77454</td>\n",
       "    </tr>\n",
       "    <tr>\n",
       "      <th>4</th>\n",
       "      <td>quant-ph</td>\n",
       "      <td>60922</td>\n",
       "    </tr>\n",
       "    <tr>\n",
       "      <th>5</th>\n",
       "      <td>physics-ph</td>\n",
       "      <td>59043</td>\n",
       "    </tr>\n",
       "    <tr>\n",
       "      <th>6</th>\n",
       "      <td>hep-th</td>\n",
       "      <td>56042</td>\n",
       "    </tr>\n",
       "    <tr>\n",
       "      <th>7</th>\n",
       "      <td>cs math</td>\n",
       "      <td>40383</td>\n",
       "    </tr>\n",
       "    <tr>\n",
       "      <th>8</th>\n",
       "      <td>cond-mat-sci</td>\n",
       "      <td>36530</td>\n",
       "    </tr>\n",
       "    <tr>\n",
       "      <th>9</th>\n",
       "      <td>cond-mat-hall</td>\n",
       "      <td>32859</td>\n",
       "    </tr>\n",
       "    <tr>\n",
       "      <th>10</th>\n",
       "      <td>math-ph math</td>\n",
       "      <td>32671</td>\n",
       "    </tr>\n",
       "    <tr>\n",
       "      <th>11</th>\n",
       "      <td>cs stat</td>\n",
       "      <td>29419</td>\n",
       "    </tr>\n",
       "    <tr>\n",
       "      <th>12</th>\n",
       "      <td>gr-qc</td>\n",
       "      <td>27921</td>\n",
       "    </tr>\n",
       "    <tr>\n",
       "      <th>13</th>\n",
       "      <td>cond-mat</td>\n",
       "      <td>25998</td>\n",
       "    </tr>\n",
       "    <tr>\n",
       "      <th>14</th>\n",
       "      <td>cond-mat-el</td>\n",
       "      <td>24565</td>\n",
       "    </tr>\n",
       "    <tr>\n",
       "      <th>15</th>\n",
       "      <td>cond-mat-mech</td>\n",
       "      <td>22000</td>\n",
       "    </tr>\n",
       "    <tr>\n",
       "      <th>16</th>\n",
       "      <td>stat</td>\n",
       "      <td>21696</td>\n",
       "    </tr>\n",
       "    <tr>\n",
       "      <th>17</th>\n",
       "      <td>nucl-th</td>\n",
       "      <td>18537</td>\n",
       "    </tr>\n",
       "    <tr>\n",
       "      <th>18</th>\n",
       "      <td>eess cs</td>\n",
       "      <td>16789</td>\n",
       "    </tr>\n",
       "    <tr>\n",
       "      <th>19</th>\n",
       "      <td>hep-ex</td>\n",
       "      <td>16662</td>\n",
       "    </tr>\n",
       "    <tr>\n",
       "      <th>20</th>\n",
       "      <td>math cs</td>\n",
       "      <td>16078</td>\n",
       "    </tr>\n",
       "    <tr>\n",
       "      <th>21</th>\n",
       "      <td>cond-mat-con</td>\n",
       "      <td>15905</td>\n",
       "    </tr>\n",
       "    <tr>\n",
       "      <th>22</th>\n",
       "      <td>physics</td>\n",
       "      <td>14257</td>\n",
       "    </tr>\n",
       "    <tr>\n",
       "      <th>23</th>\n",
       "      <td>q-bio</td>\n",
       "      <td>13668</td>\n",
       "    </tr>\n",
       "    <tr>\n",
       "      <th>24</th>\n",
       "      <td>cs eess</td>\n",
       "      <td>13519</td>\n",
       "    </tr>\n",
       "    <tr>\n",
       "      <th>25</th>\n",
       "      <td>math stat</td>\n",
       "      <td>13435</td>\n",
       "    </tr>\n",
       "    <tr>\n",
       "      <th>26</th>\n",
       "      <td>hep-ph hep-ex</td>\n",
       "      <td>11629</td>\n",
       "    </tr>\n",
       "    <tr>\n",
       "      <th>27</th>\n",
       "      <td>hep-th gr-qc</td>\n",
       "      <td>10040</td>\n",
       "    </tr>\n",
       "    <tr>\n",
       "      <th>28</th>\n",
       "      <td>nlin</td>\n",
       "      <td>9942</td>\n",
       "    </tr>\n",
       "    <tr>\n",
       "      <th>29</th>\n",
       "      <td>hep-lat</td>\n",
       "      <td>9739</td>\n",
       "    </tr>\n",
       "    <tr>\n",
       "      <th>30</th>\n",
       "      <td>physics-dyn</td>\n",
       "      <td>8987</td>\n",
       "    </tr>\n",
       "    <tr>\n",
       "      <th>31</th>\n",
       "      <td>gr-qc hep-th</td>\n",
       "      <td>8803</td>\n",
       "    </tr>\n",
       "    <tr>\n",
       "      <th>32</th>\n",
       "      <td>stat cs</td>\n",
       "      <td>8244</td>\n",
       "    </tr>\n",
       "    <tr>\n",
       "      <th>33</th>\n",
       "      <td>eess</td>\n",
       "      <td>7651</td>\n",
       "    </tr>\n",
       "    <tr>\n",
       "      <th>34</th>\n",
       "      <td>nucl-ex</td>\n",
       "      <td>7171</td>\n",
       "    </tr>\n",
       "    <tr>\n",
       "      <th>35</th>\n",
       "      <td>astro-ph gr-qc</td>\n",
       "      <td>6888</td>\n",
       "    </tr>\n",
       "    <tr>\n",
       "      <th>36</th>\n",
       "      <td>cond-mat-hall cond-mat-sci</td>\n",
       "      <td>6476</td>\n",
       "    </tr>\n",
       "    <tr>\n",
       "      <th>37</th>\n",
       "      <td>cond-mat-con cond-mat-el</td>\n",
       "      <td>6147</td>\n",
       "    </tr>\n",
       "    <tr>\n",
       "      <th>38</th>\n",
       "      <td>hep-ph nucl-th</td>\n",
       "      <td>6142</td>\n",
       "    </tr>\n",
       "    <tr>\n",
       "      <th>39</th>\n",
       "      <td>gr-qc astro-ph</td>\n",
       "      <td>6042</td>\n",
       "    </tr>\n",
       "    <tr>\n",
       "      <th>40</th>\n",
       "      <td>math cs math</td>\n",
       "      <td>6002</td>\n",
       "    </tr>\n",
       "    <tr>\n",
       "      <th>41</th>\n",
       "      <td>cond-mat-gas</td>\n",
       "      <td>5587</td>\n",
       "    </tr>\n",
       "    <tr>\n",
       "      <th>42</th>\n",
       "      <td>hep-ph astro-ph</td>\n",
       "      <td>5491</td>\n",
       "    </tr>\n",
       "    <tr>\n",
       "      <th>43</th>\n",
       "      <td>q-fin</td>\n",
       "      <td>5452</td>\n",
       "    </tr>\n",
       "    <tr>\n",
       "      <th>44</th>\n",
       "      <td>astro-ph hep-ph</td>\n",
       "      <td>5387</td>\n",
       "    </tr>\n",
       "    <tr>\n",
       "      <th>45</th>\n",
       "      <td>hep-ph hep-th</td>\n",
       "      <td>5186</td>\n",
       "    </tr>\n",
       "    <tr>\n",
       "      <th>46</th>\n",
       "      <td>hep-th hep-ph</td>\n",
       "      <td>5091</td>\n",
       "    </tr>\n",
       "    <tr>\n",
       "      <th>47</th>\n",
       "      <td>physics-det</td>\n",
       "      <td>4911</td>\n",
       "    </tr>\n",
       "    <tr>\n",
       "      <th>48</th>\n",
       "      <td>astro-ph physics-ph</td>\n",
       "      <td>4629</td>\n",
       "    </tr>\n",
       "    <tr>\n",
       "      <th>49</th>\n",
       "      <td>cond-mat-sci cond-mat-hall</td>\n",
       "      <td>4462</td>\n",
       "    </tr>\n",
       "    <tr>\n",
       "      <th>50</th>\n",
       "      <td>gr-qc astro-ph hep-th</td>\n",
       "      <td>4446</td>\n",
       "    </tr>\n",
       "    <tr>\n",
       "      <th>51</th>\n",
       "      <td>cs physics-ph</td>\n",
       "      <td>4421</td>\n",
       "    </tr>\n",
       "    <tr>\n",
       "      <th>52</th>\n",
       "      <td>cond-mat-nn</td>\n",
       "      <td>4419</td>\n",
       "    </tr>\n",
       "    <tr>\n",
       "      <th>53</th>\n",
       "      <td>cond-mat-el cond-mat-sci</td>\n",
       "      <td>4371</td>\n",
       "    </tr>\n",
       "    <tr>\n",
       "      <th>54</th>\n",
       "      <td>cs math stat</td>\n",
       "      <td>4304</td>\n",
       "    </tr>\n",
       "    <tr>\n",
       "      <th>55</th>\n",
       "      <td>nucl-th hep-ph</td>\n",
       "      <td>3731</td>\n",
       "    </tr>\n",
       "    <tr>\n",
       "      <th>56</th>\n",
       "      <td>hep-th math-ph math</td>\n",
       "      <td>3722</td>\n",
       "    </tr>\n",
       "    <tr>\n",
       "      <th>57</th>\n",
       "      <td>cond-mat-el cond-mat-con</td>\n",
       "      <td>3552</td>\n",
       "    </tr>\n",
       "    <tr>\n",
       "      <th>58</th>\n",
       "      <td>cond-mat-hall cond-mat-el</td>\n",
       "      <td>3137</td>\n",
       "    </tr>\n",
       "    <tr>\n",
       "      <th>59</th>\n",
       "      <td>cs eess math</td>\n",
       "      <td>3106</td>\n",
       "    </tr>\n",
       "  </tbody>\n",
       "</table>\n",
       "</div>"
      ],
      "text/plain": [
       "                    categories   count\n",
       "0                         math  361543\n",
       "1                           cs  263572\n",
       "2                     astro-ph  241144\n",
       "3                       hep-ph   77454\n",
       "4                     quant-ph   60922\n",
       "5                   physics-ph   59043\n",
       "6                       hep-th   56042\n",
       "7                      cs math   40383\n",
       "8                 cond-mat-sci   36530\n",
       "9                cond-mat-hall   32859\n",
       "10                math-ph math   32671\n",
       "11                     cs stat   29419\n",
       "12                       gr-qc   27921\n",
       "13                    cond-mat   25998\n",
       "14                 cond-mat-el   24565\n",
       "15               cond-mat-mech   22000\n",
       "16                        stat   21696\n",
       "17                     nucl-th   18537\n",
       "18                     eess cs   16789\n",
       "19                      hep-ex   16662\n",
       "20                     math cs   16078\n",
       "21                cond-mat-con   15905\n",
       "22                     physics   14257\n",
       "23                       q-bio   13668\n",
       "24                     cs eess   13519\n",
       "25                   math stat   13435\n",
       "26               hep-ph hep-ex   11629\n",
       "27                hep-th gr-qc   10040\n",
       "28                        nlin    9942\n",
       "29                     hep-lat    9739\n",
       "30                 physics-dyn    8987\n",
       "31                gr-qc hep-th    8803\n",
       "32                     stat cs    8244\n",
       "33                        eess    7651\n",
       "34                     nucl-ex    7171\n",
       "35              astro-ph gr-qc    6888\n",
       "36  cond-mat-hall cond-mat-sci    6476\n",
       "37    cond-mat-con cond-mat-el    6147\n",
       "38              hep-ph nucl-th    6142\n",
       "39              gr-qc astro-ph    6042\n",
       "40                math cs math    6002\n",
       "41                cond-mat-gas    5587\n",
       "42             hep-ph astro-ph    5491\n",
       "43                       q-fin    5452\n",
       "44             astro-ph hep-ph    5387\n",
       "45               hep-ph hep-th    5186\n",
       "46               hep-th hep-ph    5091\n",
       "47                 physics-det    4911\n",
       "48         astro-ph physics-ph    4629\n",
       "49  cond-mat-sci cond-mat-hall    4462\n",
       "50       gr-qc astro-ph hep-th    4446\n",
       "51               cs physics-ph    4421\n",
       "52                 cond-mat-nn    4419\n",
       "53    cond-mat-el cond-mat-sci    4371\n",
       "54                cs math stat    4304\n",
       "55              nucl-th hep-ph    3731\n",
       "56         hep-th math-ph math    3722\n",
       "57    cond-mat-el cond-mat-con    3552\n",
       "58   cond-mat-hall cond-mat-el    3137\n",
       "59                cs eess math    3106"
      ]
     },
     "execution_count": 42,
     "metadata": {},
     "output_type": "execute_result"
    }
   ],
   "source": [
    "#df3.head(60)"
   ]
  },
  {
   "cell_type": "code",
   "execution_count": null,
   "metadata": {},
   "outputs": [],
   "source": [
    "#'math','cs','stat','physics','hep-th','hep-ex','q-bio','cond-mat-sci','gr-qc'\n",
    "'''\n",
    "categories\tcount\n",
    "0\tmath\t361543\n",
    "1\tcs\t263572\n",
    "2\thep-th\t56042\n",
    "3\tcond-mat-sci\t36530\n",
    "4\tgr-qc\t27921\n",
    "5\tstat\t21696\n",
    "6\thep-ex\t16662\n",
    "7\tphysics\t14257\n",
    "8\tq-bio\t13668\n",
    "\n",
    "'''"
   ]
  },
  {
   "cell_type": "code",
   "execution_count": null,
   "metadata": {},
   "outputs": [],
   "source": []
  },
  {
   "cell_type": "code",
   "execution_count": 71,
   "metadata": {},
   "outputs": [],
   "source": [
    "#pulling out top 09 categories\n",
    "smallerData = df[df[\"categories\"].isin([\"math\", \"cs\", \"physics\",\n",
    "                                            \"cond-mat-sci\", \"hep-th\",'q-bio'])]"
   ]
  },
  {
   "cell_type": "code",
   "execution_count": 72,
   "metadata": {},
   "outputs": [
    {
     "data": {
      "text/plain": [
       "categories\n",
       "cond-mat-sci     36530\n",
       "cs              263572\n",
       "hep-th           56042\n",
       "math            361543\n",
       "physics          14257\n",
       "q-bio            13668\n",
       "dtype: int64"
      ]
     },
     "execution_count": 72,
     "metadata": {},
     "output_type": "execute_result"
    }
   ],
   "source": [
    "smallerData.groupby(['categories']).size()"
   ]
  },
  {
   "cell_type": "code",
   "execution_count": 73,
   "metadata": {},
   "outputs": [],
   "source": [
    "smallerdf = smallerData.groupby(['categories']).head(13000)"
   ]
  },
  {
   "cell_type": "code",
   "execution_count": 74,
   "metadata": {},
   "outputs": [
    {
     "data": {
      "text/plain": [
       "categories\n",
       "cond-mat-sci    13000\n",
       "cs              13000\n",
       "hep-th          13000\n",
       "math            13000\n",
       "physics         13000\n",
       "q-bio           13000\n",
       "dtype: int64"
      ]
     },
     "execution_count": 74,
     "metadata": {},
     "output_type": "execute_result"
    }
   ],
   "source": [
    "smallerdf.groupby(['categories']).size()"
   ]
  },
  {
   "cell_type": "code",
   "execution_count": 75,
   "metadata": {},
   "outputs": [
    {
     "name": "stdout",
     "output_type": "stream",
     "text": [
      "Series([], Name: abstract, dtype: object)\n"
     ]
    }
   ],
   "source": [
    "# Skimming through such short texts just to be sure\n",
    "print(smallerdf['abstract'][smallerdf['length'] < 50])"
   ]
  },
  {
   "cell_type": "code",
   "execution_count": 76,
   "metadata": {},
   "outputs": [
    {
     "data": {
      "text/plain": [
       "78000"
      ]
     },
     "execution_count": 76,
     "metadata": {},
     "output_type": "execute_result"
    }
   ],
   "source": [
    "len(smallerdf)"
   ]
  },
  {
   "cell_type": "code",
   "execution_count": 77,
   "metadata": {},
   "outputs": [
    {
     "data": {
      "text/plain": [
       "False"
      ]
     },
     "execution_count": 77,
     "metadata": {},
     "output_type": "execute_result"
    }
   ],
   "source": [
    "smallerdf['stemmed abstract'].isnull().values.any()"
   ]
  },
  {
   "cell_type": "code",
   "execution_count": 78,
   "metadata": {},
   "outputs": [
    {
     "name": "stdout",
     "output_type": "stream",
     "text": [
      "Number of articles with less than 50 words:  0\n"
     ]
    }
   ],
   "source": [
    "# Minimum length is 1. We need to spot some outliers and get rid of them. Counting how many outliers are there\n",
    "print('Number of articles with less than 50 words: ', len(smallerdf[smallerdf['length'] ==0]))"
   ]
  },
  {
   "cell_type": "code",
   "execution_count": 79,
   "metadata": {},
   "outputs": [],
   "source": [
    "#splitting test and train data ahead of time    #######\n",
    "from sklearn.model_selection import train_test_split\n",
    "X = smallerdf[\"stemmed abstract\"]\n",
    "y = smallerdf['encoded_categories']\n",
    "X_train, X_test, y_train, y_test = train_test_split(X, y, test_size=0.2)"
   ]
  },
  {
   "cell_type": "code",
   "execution_count": 80,
   "metadata": {},
   "outputs": [],
   "source": [
    "#TF IDF with stems  #####\n",
    "from sklearn.feature_extraction.text import TfidfVectorizer \n",
    "vectorizer = TfidfVectorizer(max_df = 0.8, min_df = .1)\n",
    "X_train_knn = vectorizer.fit_transform(X_train)\n",
    "X_test_knn = vectorizer.transform(X_test)"
   ]
  },
  {
   "cell_type": "code",
   "execution_count": 82,
   "metadata": {},
   "outputs": [
    {
     "name": "stdout",
     "output_type": "stream",
     "text": [
      "0.5842948717948718\n"
     ]
    }
   ],
   "source": [
    "from sklearn.neighbors import KNeighborsClassifier\n",
    "neigh = KNeighborsClassifier(n_neighbors=30) #algorithm = \"brute\", n_jobs=-1\n",
    "neigh.fit(X_train_knn, y_train)\n",
    "print(neigh.score(X_test_knn, y_test)) "
   ]
  },
  {
   "cell_type": "code",
   "execution_count": 89,
   "metadata": {},
   "outputs": [
    {
     "name": "stdout",
     "output_type": "stream",
     "text": [
      "Confusion Matrix:\n",
      "[[1421  191  175  284  288  298]\n",
      " [  81 1560  107  513   58  273]\n",
      " [ 188  146 1575  503   33  140]\n",
      " [ 100  339  244 1812   26   86]\n",
      " [ 385  187  172  265 1388  143]\n",
      " [ 277  459  205  348  100 1230]]\n",
      "Classification Report:\n",
      "              precision    recall  f1-score   support\n",
      "\n",
      "        3834       0.58      0.53      0.56      2657\n",
      "        4192       0.54      0.60      0.57      2592\n",
      "        6312       0.64      0.61      0.62      2585\n",
      "        7149       0.49      0.70      0.57      2607\n",
      "        9082       0.73      0.55      0.63      2540\n",
      "       11563       0.57      0.47      0.51      2619\n",
      "\n",
      "    accuracy                           0.58     15600\n",
      "   macro avg       0.59      0.58      0.58     15600\n",
      "weighted avg       0.59      0.58      0.58     15600\n",
      "\n"
     ]
    }
   ],
   "source": [
    "from sklearn import metrics\n",
    "range_k = range(5,15)\n",
    "scores = {}\n",
    "scores_list = []\n",
    "for k in range_k:\n",
    "   classifier = KNeighborsClassifier(n_neighbors=k)\n",
    "   classifier.fit(X_train_knn, y_train)\n",
    "   y_pred = classifier.predict(X_test_knn)\n",
    "   scores[k] = metrics.accuracy_score(y_test,y_pred)\n",
    "   scores_list.append(metrics.accuracy_score(y_test,y_pred))\n",
    "result = metrics.confusion_matrix(y_test, y_pred)\n",
    "print(\"Confusion Matrix:\")\n",
    "print(result)\n",
    "result1 = metrics.classification_report(y_test, y_pred)\n",
    "print(\"Classification Report:\",)\n",
    "print (result1)"
   ]
  },
  {
   "cell_type": "code",
   "execution_count": 92,
   "metadata": {},
   "outputs": [
    {
     "data": {
      "text/plain": [
       "Text(0, 0.5, 'Accuracy')"
      ]
     },
     "execution_count": 92,
     "metadata": {},
     "output_type": "execute_result"
    },
    {
     "data": {
      "image/png": "[encoded data removed]",
      "text/plain": [
       "<Figure size 432x288 with 1 Axes>"
      ]
     },
     "metadata": {
      "needs_background": "light"
     },
     "output_type": "display_data"
    }
   ],
   "source": [
    "%matplotlib inline\n",
    "import matplotlib.pyplot as plt\n",
    "plt.plot(range_k,scores_list)\n",
    "plt.xlabel(\"Value of K\")\n",
    "plt.ylabel(\"Accuracy\")"
   ]
  },
  {
   "cell_type": "code",
   "execution_count": 96,
   "metadata": {},
   "outputs": [
    {
     "name": "stdout",
     "output_type": "stream",
     "text": [
      "0.6451282051282051\n"
     ]
    }
   ],
   "source": [
    "from sklearn.ensemble import RandomForestClassifier                     \n",
    "rfc = RandomForestClassifier(max_depth=100) # a lot slower if you don't set a max_depth... I didn't bother waiting\n",
    "rfc.fit(X_train_knn, y_train)  \n",
    "print(rfc.score(X_test_knn, y_test)) \n",
    "\n",
    "# 0.6333974358974359 depth=18  # 0.6438461538461538 depth=30 , 0.6451282051282051 depth=50"
   ]
  },
  {
   "cell_type": "code",
   "execution_count": 94,
   "metadata": {},
   "outputs": [
    {
     "name": "stdout",
     "output_type": "stream",
     "text": [
      "0.6271153846153846\n"
     ]
    }
   ],
   "source": [
    "from sklearn.linear_model import SGDClassifier\n",
    "\n",
    "sgd= SGDClassifier()\n",
    "sgd.fit(X_train_knn, y_train)\n",
    "#mean of accuracy\n",
    "print(sgd.score(X_test_knn, y_test))"
   ]
  },
  {
   "cell_type": "code",
   "execution_count": 95,
   "metadata": {},
   "outputs": [
    {
     "name": "stdout",
     "output_type": "stream",
     "text": [
      "Accuracy: 57.58%\n"
     ]
    }
   ],
   "source": [
    "from sklearn.linear_model import PassiveAggressiveClassifier\n",
    "from sklearn.datasets import make_classification\n",
    "from sklearn.metrics import accuracy_score\n",
    "\n",
    "# Setting up Passive Aggressive Classifier\n",
    "pac = PassiveAggressiveClassifier(max_iter = 100) # with 50 get 60\n",
    "# Fitting on the training set\n",
    "pac.fit(X_train_knn, y_train)\n",
    "# Predicting on the test set\n",
    "y_pred = pac.predict(X_test_knn)\n",
    "score = accuracy_score(y_test, y_pred)\n",
    "print(f'Accuracy: {round(score * 100, 2)}%')"
   ]
  },
  {
   "cell_type": "code",
   "execution_count": null,
   "metadata": {},
   "outputs": [],
   "source": []
  }
 ],
 "metadata": {
  "kernelspec": {
   "display_name": "Python 3",
   "language": "python",
   "name": "python3"
  },
  "language_info": {
   "codemirror_mode": {
    "name": "ipython",
    "version": 3
   },
   "file_extension": ".py",
   "mimetype": "text/x-python",
   "name": "python",
   "nbconvert_exporter": "python",
   "pygments_lexer": "ipython3",
   "version": "3.7.6"
  },
  "vscode": {
   "interpreter": {
    "hash": "397704579725e15f5c7cb49fe5f0341eb7531c82d19f2c29d197e8b64ab5776b"
   }
  }
 },
 "nbformat": 4,
 "nbformat_minor": 2
}
